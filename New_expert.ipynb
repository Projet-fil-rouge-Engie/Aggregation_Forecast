{
 "cells": [
  {
   "cell_type": "code",
   "execution_count": 14,
   "id": "79983131",
   "metadata": {
    "ExecuteTime": {
     "end_time": "2021-12-25T23:18:21.563722Z",
     "start_time": "2021-12-25T23:18:21.559677Z"
    }
   },
   "outputs": [],
   "source": [
    "import pandas as pd\n",
    "import numpy as np\n",
    "import matplotlib.pyplot as plt\n",
    "from datetime import datetime\n",
    "from sklearn.metrics import mean_absolute_error"
   ]
  },
  {
   "cell_type": "code",
   "execution_count": 2,
   "id": "0de30466",
   "metadata": {
    "ExecuteTime": {
     "end_time": "2021-12-25T23:16:16.963356Z",
     "start_time": "2021-12-25T23:16:16.942525Z"
    }
   },
   "outputs": [],
   "source": [
    "turb_1 = pd.read_csv('../data/FRSSO18.csv',sep=';',decimal=',',parse_dates=['DateTime'],dayfirst=True)"
   ]
  },
  {
   "cell_type": "code",
   "execution_count": 3,
   "id": "1d54cdd5",
   "metadata": {
    "ExecuteTime": {
     "end_time": "2021-12-25T23:16:16.976814Z",
     "start_time": "2021-12-25T23:16:16.964475Z"
    }
   },
   "outputs": [
    {
     "data": {
      "text/html": [
       "<div>\n",
       "<style scoped>\n",
       "    .dataframe tbody tr th:only-of-type {\n",
       "        vertical-align: middle;\n",
       "    }\n",
       "\n",
       "    .dataframe tbody tr th {\n",
       "        vertical-align: top;\n",
       "    }\n",
       "\n",
       "    .dataframe thead th {\n",
       "        text-align: right;\n",
       "    }\n",
       "</style>\n",
       "<table border=\"1\" class=\"dataframe\">\n",
       "  <thead>\n",
       "    <tr style=\"text-align: right;\">\n",
       "      <th></th>\n",
       "      <th>DateTime</th>\n",
       "      <th>ActivePower</th>\n",
       "      <th>ProductionForecast_D</th>\n",
       "      <th>ProductionForecast_M</th>\n",
       "    </tr>\n",
       "  </thead>\n",
       "  <tbody>\n",
       "    <tr>\n",
       "      <th>0</th>\n",
       "      <td>2020-03-05 00:00:00</td>\n",
       "      <td>1614.345422</td>\n",
       "      <td>948.189357</td>\n",
       "      <td>745.2</td>\n",
       "    </tr>\n",
       "    <tr>\n",
       "      <th>1</th>\n",
       "      <td>2020-03-05 01:00:00</td>\n",
       "      <td>1478.355419</td>\n",
       "      <td>967.269962</td>\n",
       "      <td>711.8</td>\n",
       "    </tr>\n",
       "    <tr>\n",
       "      <th>2</th>\n",
       "      <td>2020-03-05 02:00:00</td>\n",
       "      <td>1690.147069</td>\n",
       "      <td>948.830677</td>\n",
       "      <td>645.0</td>\n",
       "    </tr>\n",
       "  </tbody>\n",
       "</table>\n",
       "</div>"
      ],
      "text/plain": [
       "             DateTime  ActivePower  ProductionForecast_D  ProductionForecast_M\n",
       "0 2020-03-05 00:00:00  1614.345422            948.189357                 745.2\n",
       "1 2020-03-05 01:00:00  1478.355419            967.269962                 711.8\n",
       "2 2020-03-05 02:00:00  1690.147069            948.830677                 645.0"
      ]
     },
     "execution_count": 3,
     "metadata": {},
     "output_type": "execute_result"
    }
   ],
   "source": [
    "turb_1.head(3)"
   ]
  },
  {
   "cell_type": "code",
   "execution_count": 4,
   "id": "1dedf591",
   "metadata": {
    "ExecuteTime": {
     "end_time": "2021-12-25T23:16:16.984808Z",
     "start_time": "2021-12-25T23:16:16.978909Z"
    }
   },
   "outputs": [],
   "source": [
    "turb_1 = turb_1[turb_1.ActivePower != 0]\n",
    "turb_1 = turb_1[turb_1.ProductionForecast_D != 0]\n",
    "turb_1 = turb_1[turb_1.ProductionForecast_M != 0]"
   ]
  },
  {
   "cell_type": "code",
   "execution_count": 5,
   "id": "36c220d8",
   "metadata": {
    "ExecuteTime": {
     "end_time": "2021-12-25T23:16:16.990422Z",
     "start_time": "2021-12-25T23:16:16.985945Z"
    }
   },
   "outputs": [],
   "source": [
    "turb_1['error_expert1'] = abs(turb_1['ActivePower'] - turb_1['ProductionForecast_D'])/turb_1['ActivePower']"
   ]
  },
  {
   "cell_type": "code",
   "execution_count": 6,
   "id": "9f7c49a8",
   "metadata": {
    "ExecuteTime": {
     "end_time": "2021-12-25T23:16:16.995097Z",
     "start_time": "2021-12-25T23:16:16.991627Z"
    }
   },
   "outputs": [],
   "source": [
    "turb_1['error_expert2'] = abs(turb_1['ActivePower'] - turb_1['ProductionForecast_M'])/turb_1['ActivePower']"
   ]
  },
  {
   "cell_type": "code",
   "execution_count": 7,
   "id": "aded78fb",
   "metadata": {
    "ExecuteTime": {
     "end_time": "2021-12-25T23:16:17.003647Z",
     "start_time": "2021-12-25T23:16:16.996517Z"
    }
   },
   "outputs": [],
   "source": [
    "turb_1['min_error'] = turb_1[['error_expert1','error_expert2']].min(axis=1)"
   ]
  },
  {
   "cell_type": "code",
   "execution_count": 8,
   "id": "81ba43b7",
   "metadata": {
    "ExecuteTime": {
     "end_time": "2021-12-25T23:16:17.012616Z",
     "start_time": "2021-12-25T23:16:17.004729Z"
    }
   },
   "outputs": [],
   "source": [
    "turb_1.loc[turb_1.index[0], 'weight_expert1'] = 1 / (1 + (turb_1.loc[turb_1.index[0], 'error_expert1']/turb_1.loc[turb_1.index[0], 'error_expert2']))\n",
    "turb_1.loc[turb_1.index[0], 'weight_expert2'] = 1 - turb_1.loc[turb_1.index[0], 'weight_expert1']"
   ]
  },
  {
   "cell_type": "code",
   "execution_count": 9,
   "id": "12eede2a",
   "metadata": {
    "ExecuteTime": {
     "end_time": "2021-12-25T23:16:22.136191Z",
     "start_time": "2021-12-25T23:16:17.014523Z"
    }
   },
   "outputs": [],
   "source": [
    "for k in range(1, len(turb_1)):\n",
    "    turb_1.loc[turb_1.index[k], 'weight_expert1'] = (\n",
    "        turb_1.loc[turb_1.index[k-1], 'weight_expert1'] + 1 /\n",
    "            (1 + (turb_1.loc[turb_1.index[k], 'error_expert1'] /\n",
    "             turb_1.loc[turb_1.index[k], 'error_expert2'])))\n",
    "    turb_1.loc[turb_1.index[k], 'weight_expert2']=(\n",
    "        turb_1.loc[turb_1.index[k-1], 'weight_expert1'] + 1 /\n",
    "            (1 + (turb_1.loc[turb_1.index[k], 'error_expert2'] /\n",
    "             turb_1.loc[turb_1.index[k], 'error_expert1'])))\n",
    "    \n",
    "turb_1['sum_weights']=turb_1['weight_expert1'] + turb_1['weight_expert2']"
   ]
  },
  {
   "cell_type": "code",
   "execution_count": 10,
   "id": "8147ff04",
   "metadata": {
    "ExecuteTime": {
     "end_time": "2021-12-25T23:16:22.142055Z",
     "start_time": "2021-12-25T23:16:22.138806Z"
    }
   },
   "outputs": [],
   "source": [
    "turb_1['new_expert'] = (turb_1['ProductionForecast_D']*turb_1['weight_expert1'] +\n",
    "                        turb_1['ProductionForecast_M']*turb_1['weight_expert2'])/turb_1['sum_weights']"
   ]
  },
  {
   "cell_type": "code",
   "execution_count": 12,
   "id": "45cf9d0b",
   "metadata": {
    "ExecuteTime": {
     "end_time": "2021-12-25T23:17:47.507297Z",
     "start_time": "2021-12-25T23:17:47.501356Z"
    }
   },
   "outputs": [],
   "source": [
    "ProductionForecast_D = turb_1['ProductionForecast_D'].to_numpy()\n",
    "ProductionForecast_M = turb_1['ProductionForecast_M'].to_numpy()\n",
    "New_expert = turb_1['new_expert'].to_numpy()\n",
    "Y_true = turb_1['ActivePower'].to_numpy()"
   ]
  },
  {
   "cell_type": "code",
   "execution_count": 23,
   "id": "0d788942",
   "metadata": {
    "ExecuteTime": {
     "end_time": "2021-12-25T23:24:30.980336Z",
     "start_time": "2021-12-25T23:24:30.972000Z"
    }
   },
   "outputs": [],
   "source": [
    "mae_D = mean_absolute_error(Y_true, ProductionForecast_D)\n",
    "mae_M = mean_absolute_error(Y_true, ProductionForecast_M)\n",
    "mae_New = mean_absolute_error(Y_true, New_expert)"
   ]
  },
  {
   "cell_type": "code",
   "execution_count": 24,
   "id": "d6f9d1d8",
   "metadata": {
    "ExecuteTime": {
     "end_time": "2021-12-25T23:24:37.225947Z",
     "start_time": "2021-12-25T23:24:37.207827Z"
    }
   },
   "outputs": [
    {
     "data": {
      "text/html": [
       "<div>\n",
       "<style scoped>\n",
       "    .dataframe tbody tr th:only-of-type {\n",
       "        vertical-align: middle;\n",
       "    }\n",
       "\n",
       "    .dataframe tbody tr th {\n",
       "        vertical-align: top;\n",
       "    }\n",
       "\n",
       "    .dataframe thead th {\n",
       "        text-align: right;\n",
       "    }\n",
       "</style>\n",
       "<table border=\"1\" class=\"dataframe\">\n",
       "  <thead>\n",
       "    <tr style=\"text-align: right;\">\n",
       "      <th></th>\n",
       "      <th>mae_D</th>\n",
       "      <th>mae_M</th>\n",
       "      <th>mae_New</th>\n",
       "    </tr>\n",
       "  </thead>\n",
       "  <tbody>\n",
       "    <tr>\n",
       "      <th>0</th>\n",
       "      <td>245.464623</td>\n",
       "      <td>237.088207</td>\n",
       "      <td>227.282785</td>\n",
       "    </tr>\n",
       "  </tbody>\n",
       "</table>\n",
       "</div>"
      ],
      "text/plain": [
       "        mae_D       mae_M     mae_New\n",
       "0  245.464623  237.088207  227.282785"
      ]
     },
     "execution_count": 24,
     "metadata": {},
     "output_type": "execute_result"
    }
   ],
   "source": [
    "d = {'mae_D': [mae_D], 'mae_M': [mae_M], 'mae_New': [mae_New]}\n",
    "df = pd.DataFrame(data=d)\n",
    "df"
   ]
  }
 ],
 "metadata": {
  "kernelspec": {
   "display_name": "Python 3 (ipykernel)",
   "language": "python",
   "name": "python3"
  },
  "language_info": {
   "codemirror_mode": {
    "name": "ipython",
    "version": 3
   },
   "file_extension": ".py",
   "mimetype": "text/x-python",
   "name": "python",
   "nbconvert_exporter": "python",
   "pygments_lexer": "ipython3",
   "version": "3.9.7"
  },
  "toc": {
   "base_numbering": 1,
   "nav_menu": {},
   "number_sections": true,
   "sideBar": true,
   "skip_h1_title": false,
   "title_cell": "Table of Contents",
   "title_sidebar": "Contents",
   "toc_cell": false,
   "toc_position": {},
   "toc_section_display": true,
   "toc_window_display": false
  }
 },
 "nbformat": 4,
 "nbformat_minor": 5
}
