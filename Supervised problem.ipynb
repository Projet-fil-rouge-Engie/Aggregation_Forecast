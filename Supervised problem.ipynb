{
 "cells": [
  {
   "cell_type": "code",
   "execution_count": 16,
   "metadata": {},
   "outputs": [],
   "source": [
    "# Créer des séries temporelles\n",
    "\n",
    "import numpy as np\n",
    "\n",
    "import pandas as pd\n",
    "\n",
    "\n",
    "np.random.seed(1)\n",
    "\n",
    "\n",
    "import matplotlib.pyplot as plt"
   ]
  },
  {
   "cell_type": "markdown",
   "metadata": {},
   "source": [
    "## <<<< LOAD DATA ENGIE >>>>"
   ]
  },
  {
   "cell_type": "code",
   "execution_count": 208,
   "metadata": {},
   "outputs": [],
   "source": [
    "# df = pd.read_csv('../RE  Pondération experts/FRMHNN11.csv',sep=';', index_col=\"DateTime\") # ,parse_dates=['DateTime'],dayfirst=True\n",
    "\n",
    "df = pd.read_csv('./FRMHN11.csv',sep=';', index_col=\"DateTime\") # ,parse_dates=['DateTime'],dayfirst=True"
   ]
  },
  {
   "cell_type": "code",
   "execution_count": 209,
   "metadata": {},
   "outputs": [
    {
     "data": {
      "text/html": [
       "<div>\n",
       "<style scoped>\n",
       "    .dataframe tbody tr th:only-of-type {\n",
       "        vertical-align: middle;\n",
       "    }\n",
       "\n",
       "    .dataframe tbody tr th {\n",
       "        vertical-align: top;\n",
       "    }\n",
       "\n",
       "    .dataframe thead th {\n",
       "        text-align: right;\n",
       "    }\n",
       "</style>\n",
       "<table border=\"1\" class=\"dataframe\">\n",
       "  <thead>\n",
       "    <tr style=\"text-align: right;\">\n",
       "      <th></th>\n",
       "      <th>ActivePower</th>\n",
       "      <th>ProductionForecast_D</th>\n",
       "      <th>ProductionForecast_M</th>\n",
       "    </tr>\n",
       "    <tr>\n",
       "      <th>DateTime</th>\n",
       "      <th></th>\n",
       "      <th></th>\n",
       "      <th></th>\n",
       "    </tr>\n",
       "  </thead>\n",
       "  <tbody>\n",
       "    <tr>\n",
       "      <th>2020-03-05 00:00:00</th>\n",
       "      <td>1697,2022160665</td>\n",
       "      <td>1750,206339</td>\n",
       "      <td>1338,7500000000002</td>\n",
       "    </tr>\n",
       "    <tr>\n",
       "      <th>2020-03-05 01:00:00</th>\n",
       "      <td>1708,1725708111169</td>\n",
       "      <td>1859,345119</td>\n",
       "      <td>1143,75</td>\n",
       "    </tr>\n",
       "    <tr>\n",
       "      <th>2020-03-05 02:00:00</th>\n",
       "      <td>1244,7086093427665</td>\n",
       "      <td>1727,167637</td>\n",
       "      <td>1046,25</td>\n",
       "    </tr>\n",
       "    <tr>\n",
       "      <th>2020-03-05 03:00:00</th>\n",
       "      <td>1261,8040361268</td>\n",
       "      <td>1645,022462</td>\n",
       "      <td>1046,25</td>\n",
       "    </tr>\n",
       "    <tr>\n",
       "      <th>2020-03-05 04:00:00</th>\n",
       "      <td>1281,0959932573166</td>\n",
       "      <td>1655,782922</td>\n",
       "      <td>997,5</td>\n",
       "    </tr>\n",
       "    <tr>\n",
       "      <th>...</th>\n",
       "      <td>...</td>\n",
       "      <td>...</td>\n",
       "      <td>...</td>\n",
       "    </tr>\n",
       "    <tr>\n",
       "      <th>2021-10-20 00:00:00</th>\n",
       "      <td>3299,8560954430664</td>\n",
       "      <td>2720,159697</td>\n",
       "      <td>2820,0</td>\n",
       "    </tr>\n",
       "    <tr>\n",
       "      <th>2021-10-20 01:00:00</th>\n",
       "      <td>2387,9078167191415</td>\n",
       "      <td>2660,177096</td>\n",
       "      <td>2820,0</td>\n",
       "    </tr>\n",
       "    <tr>\n",
       "      <th>2021-10-20 02:00:00</th>\n",
       "      <td>2016,272910748842</td>\n",
       "      <td>2568,792496</td>\n",
       "      <td>2775,0</td>\n",
       "    </tr>\n",
       "    <tr>\n",
       "      <th>2021-10-20 03:00:00</th>\n",
       "      <td>2181,5573087011503</td>\n",
       "      <td>2739,319746</td>\n",
       "      <td>2775,0</td>\n",
       "    </tr>\n",
       "    <tr>\n",
       "      <th>2021-10-20 04:00:00</th>\n",
       "      <td>1306,383053562767</td>\n",
       "      <td>2925,364899</td>\n",
       "      <td>3000,0</td>\n",
       "    </tr>\n",
       "  </tbody>\n",
       "</table>\n",
       "<p>11762 rows × 3 columns</p>\n",
       "</div>"
      ],
      "text/plain": [
       "                            ActivePower ProductionForecast_D  \\\n",
       "DateTime                                                       \n",
       "2020-03-05 00:00:00     1697,2022160665          1750,206339   \n",
       "2020-03-05 01:00:00  1708,1725708111169          1859,345119   \n",
       "2020-03-05 02:00:00  1244,7086093427665          1727,167637   \n",
       "2020-03-05 03:00:00     1261,8040361268          1645,022462   \n",
       "2020-03-05 04:00:00  1281,0959932573166          1655,782922   \n",
       "...                                 ...                  ...   \n",
       "2021-10-20 00:00:00  3299,8560954430664          2720,159697   \n",
       "2021-10-20 01:00:00  2387,9078167191415          2660,177096   \n",
       "2021-10-20 02:00:00   2016,272910748842          2568,792496   \n",
       "2021-10-20 03:00:00  2181,5573087011503          2739,319746   \n",
       "2021-10-20 04:00:00   1306,383053562767          2925,364899   \n",
       "\n",
       "                    ProductionForecast_M  \n",
       "DateTime                                  \n",
       "2020-03-05 00:00:00   1338,7500000000002  \n",
       "2020-03-05 01:00:00              1143,75  \n",
       "2020-03-05 02:00:00              1046,25  \n",
       "2020-03-05 03:00:00              1046,25  \n",
       "2020-03-05 04:00:00                997,5  \n",
       "...                                  ...  \n",
       "2021-10-20 00:00:00               2820,0  \n",
       "2021-10-20 01:00:00               2820,0  \n",
       "2021-10-20 02:00:00               2775,0  \n",
       "2021-10-20 03:00:00               2775,0  \n",
       "2021-10-20 04:00:00               3000,0  \n",
       "\n",
       "[11762 rows x 3 columns]"
      ]
     },
     "execution_count": 209,
     "metadata": {},
     "output_type": "execute_result"
    }
   ],
   "source": [
    "df"
   ]
  },
  {
   "cell_type": "code",
   "execution_count": 339,
   "metadata": {},
   "outputs": [],
   "source": [
    "df = pd.read_csv('../RE  Pondération experts/FRBRE_E03.csv',sep=';', index_col=\"DateTime\") # ,parse_dates=['DateTime'],dayfirst=True"
   ]
  },
  {
   "cell_type": "code",
   "execution_count": 296,
   "metadata": {},
   "outputs": [],
   "source": [
    "df2 = pd.read_csv('../RE  Pondération experts/FRHVA_E04.csv',sep=';', index_col=\"DateTime\") # ,parse_dates=['DateTime'],dayfirst=True"
   ]
  },
  {
   "cell_type": "code",
   "execution_count": 20,
   "metadata": {},
   "outputs": [
    {
     "data": {
      "text/html": [
       "<div>\n",
       "<style scoped>\n",
       "    .dataframe tbody tr th:only-of-type {\n",
       "        vertical-align: middle;\n",
       "    }\n",
       "\n",
       "    .dataframe tbody tr th {\n",
       "        vertical-align: top;\n",
       "    }\n",
       "\n",
       "    .dataframe thead th {\n",
       "        text-align: right;\n",
       "    }\n",
       "</style>\n",
       "<table border=\"1\" class=\"dataframe\">\n",
       "  <thead>\n",
       "    <tr style=\"text-align: right;\">\n",
       "      <th></th>\n",
       "      <th>ActivePower</th>\n",
       "      <th>ProductionForecast_D</th>\n",
       "      <th>ProductionForecast_M</th>\n",
       "    </tr>\n",
       "    <tr>\n",
       "      <th>DateTime</th>\n",
       "      <th></th>\n",
       "      <th></th>\n",
       "      <th></th>\n",
       "    </tr>\n",
       "  </thead>\n",
       "  <tbody>\n",
       "    <tr>\n",
       "      <th>2020-02-12 16:00:00</th>\n",
       "      <td>538,746431838</td>\n",
       "      <td>439,182234</td>\n",
       "      <td>447,6</td>\n",
       "    </tr>\n",
       "    <tr>\n",
       "      <th>2020-02-12 17:00:00</th>\n",
       "      <td>660,95583319</td>\n",
       "      <td>351,202216</td>\n",
       "      <td>368,8</td>\n",
       "    </tr>\n",
       "    <tr>\n",
       "      <th>2020-02-12 18:00:00</th>\n",
       "      <td>249,54682373</td>\n",
       "      <td>299,196237</td>\n",
       "      <td>309,7</td>\n",
       "    </tr>\n",
       "    <tr>\n",
       "      <th>2020-02-12 19:00:00</th>\n",
       "      <td>353,09258012333333</td>\n",
       "      <td>236,735618</td>\n",
       "      <td>276,5</td>\n",
       "    </tr>\n",
       "    <tr>\n",
       "      <th>2020-02-12 20:00:00</th>\n",
       "      <td>363,51133752833334</td>\n",
       "      <td>207,069759</td>\n",
       "      <td>263,0</td>\n",
       "    </tr>\n",
       "    <tr>\n",
       "      <th>...</th>\n",
       "      <td>...</td>\n",
       "      <td>...</td>\n",
       "      <td>...</td>\n",
       "    </tr>\n",
       "    <tr>\n",
       "      <th>2021-12-31 20:00:00</th>\n",
       "      <td>252,55737916666666</td>\n",
       "      <td>364,08639</td>\n",
       "      <td>368,8</td>\n",
       "    </tr>\n",
       "    <tr>\n",
       "      <th>2021-12-31 21:00:00</th>\n",
       "      <td>349,21927214500005</td>\n",
       "      <td>351,571066</td>\n",
       "      <td>368,8</td>\n",
       "    </tr>\n",
       "    <tr>\n",
       "      <th>2021-12-31 22:00:00</th>\n",
       "      <td>201,9554309283333</td>\n",
       "      <td>335,312431</td>\n",
       "      <td>290,0</td>\n",
       "    </tr>\n",
       "    <tr>\n",
       "      <th>2021-12-31 23:00:00</th>\n",
       "      <td>212,86352807333333</td>\n",
       "      <td>200,424388</td>\n",
       "      <td>263,0</td>\n",
       "    </tr>\n",
       "    <tr>\n",
       "      <th>2022-01-01 00:00:00</th>\n",
       "      <td>301,17445283</td>\n",
       "      <td>64,517932</td>\n",
       "      <td>125,9</td>\n",
       "    </tr>\n",
       "  </tbody>\n",
       "</table>\n",
       "<p>10657 rows × 3 columns</p>\n",
       "</div>"
      ],
      "text/plain": [
       "                            ActivePower ProductionForecast_D  \\\n",
       "DateTime                                                       \n",
       "2020-02-12 16:00:00       538,746431838           439,182234   \n",
       "2020-02-12 17:00:00        660,95583319           351,202216   \n",
       "2020-02-12 18:00:00        249,54682373           299,196237   \n",
       "2020-02-12 19:00:00  353,09258012333333           236,735618   \n",
       "2020-02-12 20:00:00  363,51133752833334           207,069759   \n",
       "...                                 ...                  ...   \n",
       "2021-12-31 20:00:00  252,55737916666666            364,08639   \n",
       "2021-12-31 21:00:00  349,21927214500005           351,571066   \n",
       "2021-12-31 22:00:00   201,9554309283333           335,312431   \n",
       "2021-12-31 23:00:00  212,86352807333333           200,424388   \n",
       "2022-01-01 00:00:00        301,17445283            64,517932   \n",
       "\n",
       "                    ProductionForecast_M  \n",
       "DateTime                                  \n",
       "2020-02-12 16:00:00                447,6  \n",
       "2020-02-12 17:00:00                368,8  \n",
       "2020-02-12 18:00:00                309,7  \n",
       "2020-02-12 19:00:00                276,5  \n",
       "2020-02-12 20:00:00                263,0  \n",
       "...                                  ...  \n",
       "2021-12-31 20:00:00                368,8  \n",
       "2021-12-31 21:00:00                368,8  \n",
       "2021-12-31 22:00:00                290,0  \n",
       "2021-12-31 23:00:00                263,0  \n",
       "2022-01-01 00:00:00                125,9  \n",
       "\n",
       "[10657 rows x 3 columns]"
      ]
     },
     "execution_count": 20,
     "metadata": {},
     "output_type": "execute_result"
    }
   ],
   "source": [
    "df2"
   ]
  },
  {
   "cell_type": "code",
   "execution_count": 320,
   "metadata": {},
   "outputs": [],
   "source": [
    "df = pd.read_csv('../RE  Pondération experts/FRMHN_E06.csv',sep=';', index_col=\"DateTime\") # ,parse_dates=['DateTime'],dayfirst=True"
   ]
  },
  {
   "cell_type": "code",
   "execution_count": 22,
   "metadata": {},
   "outputs": [
    {
     "data": {
      "text/html": [
       "<div>\n",
       "<style scoped>\n",
       "    .dataframe tbody tr th:only-of-type {\n",
       "        vertical-align: middle;\n",
       "    }\n",
       "\n",
       "    .dataframe tbody tr th {\n",
       "        vertical-align: top;\n",
       "    }\n",
       "\n",
       "    .dataframe thead th {\n",
       "        text-align: right;\n",
       "    }\n",
       "</style>\n",
       "<table border=\"1\" class=\"dataframe\">\n",
       "  <thead>\n",
       "    <tr style=\"text-align: right;\">\n",
       "      <th></th>\n",
       "      <th>ActivePower</th>\n",
       "      <th>ProductionForecast_D</th>\n",
       "      <th>ProductionForecast_M</th>\n",
       "    </tr>\n",
       "    <tr>\n",
       "      <th>DateTime</th>\n",
       "      <th></th>\n",
       "      <th></th>\n",
       "      <th></th>\n",
       "    </tr>\n",
       "  </thead>\n",
       "  <tbody>\n",
       "    <tr>\n",
       "      <th>2020-01-30 17:00:00</th>\n",
       "      <td>2866,3645562799998</td>\n",
       "      <td>3112,223161</td>\n",
       "      <td>2775,0</td>\n",
       "    </tr>\n",
       "    <tr>\n",
       "      <th>2020-01-30 18:00:00</th>\n",
       "      <td>3299,7608184666665</td>\n",
       "      <td>3074,894251</td>\n",
       "      <td>3000,0</td>\n",
       "    </tr>\n",
       "    <tr>\n",
       "      <th>2020-01-30 19:00:00</th>\n",
       "      <td>2960,236933385</td>\n",
       "      <td>3115,750866</td>\n",
       "      <td>3022,5</td>\n",
       "    </tr>\n",
       "    <tr>\n",
       "      <th>2020-01-30 20:00:00</th>\n",
       "      <td>2354,139261253333</td>\n",
       "      <td>3012,623302</td>\n",
       "      <td>3022,5</td>\n",
       "    </tr>\n",
       "    <tr>\n",
       "      <th>2020-01-30 21:00:00</th>\n",
       "      <td>2047,085903698</td>\n",
       "      <td>3003,807589</td>\n",
       "      <td>3045,0</td>\n",
       "    </tr>\n",
       "    <tr>\n",
       "      <th>...</th>\n",
       "      <td>...</td>\n",
       "      <td>...</td>\n",
       "      <td>...</td>\n",
       "    </tr>\n",
       "    <tr>\n",
       "      <th>2021-12-31 20:00:00</th>\n",
       "      <td>346,10668026666457</td>\n",
       "      <td>718,294941</td>\n",
       "      <td>712,5</td>\n",
       "    </tr>\n",
       "    <tr>\n",
       "      <th>2021-12-31 21:00:00</th>\n",
       "      <td>354,20681695833224</td>\n",
       "      <td>676,4444</td>\n",
       "      <td>712,5</td>\n",
       "    </tr>\n",
       "    <tr>\n",
       "      <th>2021-12-31 22:00:00</th>\n",
       "      <td>845,0325026379987</td>\n",
       "      <td>1018,052085</td>\n",
       "      <td>637,5</td>\n",
       "    </tr>\n",
       "    <tr>\n",
       "      <th>2021-12-31 23:00:00</th>\n",
       "      <td>531,3955647549989</td>\n",
       "      <td>1086,595598</td>\n",
       "      <td>562,5</td>\n",
       "    </tr>\n",
       "    <tr>\n",
       "      <th>2022-01-01 00:00:00</th>\n",
       "      <td>264,5024076916656</td>\n",
       "      <td>758,144946</td>\n",
       "      <td>480,0</td>\n",
       "    </tr>\n",
       "  </tbody>\n",
       "</table>\n",
       "<p>13118 rows × 3 columns</p>\n",
       "</div>"
      ],
      "text/plain": [
       "                            ActivePower ProductionForecast_D  \\\n",
       "DateTime                                                       \n",
       "2020-01-30 17:00:00  2866,3645562799998          3112,223161   \n",
       "2020-01-30 18:00:00  3299,7608184666665          3074,894251   \n",
       "2020-01-30 19:00:00      2960,236933385          3115,750866   \n",
       "2020-01-30 20:00:00   2354,139261253333          3012,623302   \n",
       "2020-01-30 21:00:00      2047,085903698          3003,807589   \n",
       "...                                 ...                  ...   \n",
       "2021-12-31 20:00:00  346,10668026666457           718,294941   \n",
       "2021-12-31 21:00:00  354,20681695833224             676,4444   \n",
       "2021-12-31 22:00:00   845,0325026379987          1018,052085   \n",
       "2021-12-31 23:00:00   531,3955647549989          1086,595598   \n",
       "2022-01-01 00:00:00   264,5024076916656           758,144946   \n",
       "\n",
       "                    ProductionForecast_M  \n",
       "DateTime                                  \n",
       "2020-01-30 17:00:00               2775,0  \n",
       "2020-01-30 18:00:00               3000,0  \n",
       "2020-01-30 19:00:00               3022,5  \n",
       "2020-01-30 20:00:00               3022,5  \n",
       "2020-01-30 21:00:00               3045,0  \n",
       "...                                  ...  \n",
       "2021-12-31 20:00:00                712,5  \n",
       "2021-12-31 21:00:00                712,5  \n",
       "2021-12-31 22:00:00                637,5  \n",
       "2021-12-31 23:00:00                562,5  \n",
       "2022-01-01 00:00:00                480,0  \n",
       "\n",
       "[13118 rows x 3 columns]"
      ]
     },
     "execution_count": 22,
     "metadata": {},
     "output_type": "execute_result"
    }
   ],
   "source": [
    "df3"
   ]
  },
  {
   "cell_type": "code",
   "execution_count": 23,
   "metadata": {},
   "outputs": [],
   "source": [
    "df['ActivePower'] = [np.float64(x.replace(',', '.')) for x in df['ActivePower']]\n",
    "df['ProductionForecast_D'] = [np.float64(x.replace(',', '.')) for x in df['ProductionForecast_D']]\n",
    "df['ProductionForecast_M'] = [np.float64(x.replace(',', '.')) for x in df['ProductionForecast_M']]"
   ]
  },
  {
   "cell_type": "code",
   "execution_count": 24,
   "metadata": {},
   "outputs": [],
   "source": [
    "data_frame_post = df"
   ]
  },
  {
   "cell_type": "code",
   "execution_count": 25,
   "metadata": {},
   "outputs": [
    {
     "data": {
      "text/html": [
       "<div>\n",
       "<style scoped>\n",
       "    .dataframe tbody tr th:only-of-type {\n",
       "        vertical-align: middle;\n",
       "    }\n",
       "\n",
       "    .dataframe tbody tr th {\n",
       "        vertical-align: top;\n",
       "    }\n",
       "\n",
       "    .dataframe thead th {\n",
       "        text-align: right;\n",
       "    }\n",
       "</style>\n",
       "<table border=\"1\" class=\"dataframe\">\n",
       "  <thead>\n",
       "    <tr style=\"text-align: right;\">\n",
       "      <th></th>\n",
       "      <th>ActivePower</th>\n",
       "      <th>ProductionForecast_D</th>\n",
       "      <th>ProductionForecast_M</th>\n",
       "    </tr>\n",
       "    <tr>\n",
       "      <th>DateTime</th>\n",
       "      <th></th>\n",
       "      <th></th>\n",
       "      <th></th>\n",
       "    </tr>\n",
       "  </thead>\n",
       "  <tbody>\n",
       "    <tr>\n",
       "      <th>2020-03-05 00:00:00</th>\n",
       "      <td>1614.345422</td>\n",
       "      <td>948.189357</td>\n",
       "      <td>745.2</td>\n",
       "    </tr>\n",
       "    <tr>\n",
       "      <th>2020-03-05 01:00:00</th>\n",
       "      <td>1478.355419</td>\n",
       "      <td>967.269962</td>\n",
       "      <td>711.8</td>\n",
       "    </tr>\n",
       "    <tr>\n",
       "      <th>2020-03-05 02:00:00</th>\n",
       "      <td>1690.147069</td>\n",
       "      <td>948.830677</td>\n",
       "      <td>645.0</td>\n",
       "    </tr>\n",
       "    <tr>\n",
       "      <th>2020-03-05 03:00:00</th>\n",
       "      <td>1516.965994</td>\n",
       "      <td>1102.870568</td>\n",
       "      <td>645.0</td>\n",
       "    </tr>\n",
       "    <tr>\n",
       "      <th>2020-03-05 04:00:00</th>\n",
       "      <td>936.617865</td>\n",
       "      <td>962.811666</td>\n",
       "      <td>568.8</td>\n",
       "    </tr>\n",
       "    <tr>\n",
       "      <th>...</th>\n",
       "      <td>...</td>\n",
       "      <td>...</td>\n",
       "      <td>...</td>\n",
       "    </tr>\n",
       "    <tr>\n",
       "      <th>2021-10-16 14:00:00</th>\n",
       "      <td>0.423586</td>\n",
       "      <td>0.000000</td>\n",
       "      <td>0.0</td>\n",
       "    </tr>\n",
       "    <tr>\n",
       "      <th>2021-10-16 16:00:00</th>\n",
       "      <td>33.743984</td>\n",
       "      <td>0.000000</td>\n",
       "      <td>0.0</td>\n",
       "    </tr>\n",
       "    <tr>\n",
       "      <th>2021-10-16 17:00:00</th>\n",
       "      <td>66.180937</td>\n",
       "      <td>29.035056</td>\n",
       "      <td>0.0</td>\n",
       "    </tr>\n",
       "    <tr>\n",
       "      <th>2021-10-16 22:00:00</th>\n",
       "      <td>3.609505</td>\n",
       "      <td>0.000000</td>\n",
       "      <td>4.0</td>\n",
       "    </tr>\n",
       "    <tr>\n",
       "      <th>2021-10-17 01:00:00</th>\n",
       "      <td>2.386485</td>\n",
       "      <td>0.000000</td>\n",
       "      <td>2.0</td>\n",
       "    </tr>\n",
       "  </tbody>\n",
       "</table>\n",
       "<p>11678 rows × 3 columns</p>\n",
       "</div>"
      ],
      "text/plain": [
       "                     ActivePower  ProductionForecast_D  ProductionForecast_M\n",
       "DateTime                                                                    \n",
       "2020-03-05 00:00:00  1614.345422            948.189357                 745.2\n",
       "2020-03-05 01:00:00  1478.355419            967.269962                 711.8\n",
       "2020-03-05 02:00:00  1690.147069            948.830677                 645.0\n",
       "2020-03-05 03:00:00  1516.965994           1102.870568                 645.0\n",
       "2020-03-05 04:00:00   936.617865            962.811666                 568.8\n",
       "...                          ...                   ...                   ...\n",
       "2021-10-16 14:00:00     0.423586              0.000000                   0.0\n",
       "2021-10-16 16:00:00    33.743984              0.000000                   0.0\n",
       "2021-10-16 17:00:00    66.180937             29.035056                   0.0\n",
       "2021-10-16 22:00:00     3.609505              0.000000                   4.0\n",
       "2021-10-17 01:00:00     2.386485              0.000000                   2.0\n",
       "\n",
       "[11678 rows x 3 columns]"
      ]
     },
     "execution_count": 25,
     "metadata": {},
     "output_type": "execute_result"
    }
   ],
   "source": [
    "data_frame_post"
   ]
  },
  {
   "cell_type": "code",
   "execution_count": 26,
   "metadata": {},
   "outputs": [],
   "source": [
    "data_frame_post['ActivePower'] = pd.to_numeric(data_frame_post['ActivePower'])\n",
    "data_frame_post['ProductionForecast_D'] = pd.to_numeric(data_frame_post['ProductionForecast_D'], errors='coerce')\n",
    "data_frame_post['ProductionForecast_M'] = pd.to_numeric(data_frame_post['ProductionForecast_M'], errors='coerce')"
   ]
  },
  {
   "cell_type": "code",
   "execution_count": null,
   "metadata": {},
   "outputs": [],
   "source": [
    "data_frame_post"
   ]
  },
  {
   "cell_type": "code",
   "execution_count": null,
   "metadata": {},
   "outputs": [],
   "source": [
    "data_frame = data_frame_post.drop([\"ActivePower\"], axis=1)"
   ]
  },
  {
   "cell_type": "code",
   "execution_count": null,
   "metadata": {},
   "outputs": [],
   "source": [
    "type(data_frame[\"ProductionForecast_D\"][0])"
   ]
  },
  {
   "cell_type": "code",
   "execution_count": null,
   "metadata": {},
   "outputs": [],
   "source": [
    "data_frame_ref = data_frame_post.drop([\"ProductionForecast_D\", \"ProductionForecast_M\"], axis=1)"
   ]
  },
  {
   "cell_type": "code",
   "execution_count": null,
   "metadata": {},
   "outputs": [],
   "source": [
    "data_frame_ref"
   ]
  },
  {
   "cell_type": "markdown",
   "metadata": {},
   "source": [
    "### ADD NEW AGENT CREATE CREATE BY PREVIOUS"
   ]
  },
  {
   "cell_type": "code",
   "execution_count": null,
   "metadata": {},
   "outputs": [],
   "source": [
    "df.index  == '2021-10-17 00:00:00'"
   ]
  },
  {
   "cell_type": "code",
   "execution_count": null,
   "metadata": {},
   "outputs": [],
   "source": [
    "count = 0\n",
    "for i in df.index == \"2021-03-05 22:00:00\":\n",
    "    \n",
    "    count = count +1\n",
    "    if i == True :\n",
    "        break"
   ]
  },
  {
   "cell_type": "code",
   "execution_count": null,
   "metadata": {},
   "outputs": [],
   "source": [
    "count"
   ]
  },
  {
   "cell_type": "code",
   "execution_count": null,
   "metadata": {},
   "outputs": [],
   "source": [
    "df.iloc[7299]"
   ]
  },
  {
   "cell_type": "code",
   "execution_count": null,
   "metadata": {},
   "outputs": [],
   "source": [
    "data_frame['Moy'] = 0.5 * data_frame['ProductionForecast_D'] + 0.5 * data_frame['ProductionForecast_M']\n",
    "data_frame['2D_1M'] = 1/3 * (2 * data_frame['ProductionForecast_D'] + data_frame['ProductionForecast_M'])\n",
    "data_frame['1D_2M'] = 1/3 * (data_frame['ProductionForecast_D'] + 2 * data_frame['ProductionForecast_M'])\n",
    "data_frame['1D_3M'] = 1/4 * (data_frame['ProductionForecast_D'] + 3 * data_frame['ProductionForecast_M'])\n",
    "data_frame['3D_1M'] = 1/4 * (3 * data_frame['ProductionForecast_D'] + data_frame['ProductionForecast_M'])"
   ]
  },
  {
   "cell_type": "code",
   "execution_count": null,
   "metadata": {},
   "outputs": [],
   "source": [
    "b = np.array([0,0, 1])\n",
    "np.random.choice(np.where(b == b.max())[0])\n"
   ]
  },
  {
   "cell_type": "markdown",
   "metadata": {},
   "source": [
    "# Transform the problem to a suppervise problem\n"
   ]
  },
  {
   "cell_type": "markdown",
   "metadata": {},
   "source": [
    "___"
   ]
  },
  {
   "cell_type": "code",
   "execution_count": 340,
   "metadata": {},
   "outputs": [
    {
     "data": {
      "text/html": [
       "<div>\n",
       "<style scoped>\n",
       "    .dataframe tbody tr th:only-of-type {\n",
       "        vertical-align: middle;\n",
       "    }\n",
       "\n",
       "    .dataframe tbody tr th {\n",
       "        vertical-align: top;\n",
       "    }\n",
       "\n",
       "    .dataframe thead th {\n",
       "        text-align: right;\n",
       "    }\n",
       "</style>\n",
       "<table border=\"1\" class=\"dataframe\">\n",
       "  <thead>\n",
       "    <tr style=\"text-align: right;\">\n",
       "      <th></th>\n",
       "      <th>ActivePower</th>\n",
       "      <th>ProductionForecast_D</th>\n",
       "      <th>ProductionForecast_M</th>\n",
       "    </tr>\n",
       "    <tr>\n",
       "      <th>DateTime</th>\n",
       "      <th></th>\n",
       "      <th></th>\n",
       "      <th></th>\n",
       "    </tr>\n",
       "  </thead>\n",
       "  <tbody>\n",
       "    <tr>\n",
       "      <th>2020-01-10 14:00:00</th>\n",
       "      <td>361,984872744</td>\n",
       "      <td>73,615132</td>\n",
       "      <td>368,8</td>\n",
       "    </tr>\n",
       "    <tr>\n",
       "      <th>2020-01-10 15:00:00</th>\n",
       "      <td>412,47429850000003</td>\n",
       "      <td>103,804581</td>\n",
       "      <td>263,0</td>\n",
       "    </tr>\n",
       "    <tr>\n",
       "      <th>2020-01-10 16:00:00</th>\n",
       "      <td>301,33653231999995</td>\n",
       "      <td>114,025995</td>\n",
       "      <td>195,5</td>\n",
       "    </tr>\n",
       "    <tr>\n",
       "      <th>2020-01-10 17:00:00</th>\n",
       "      <td>250,289557805</td>\n",
       "      <td>88,874642</td>\n",
       "      <td>155,0</td>\n",
       "    </tr>\n",
       "    <tr>\n",
       "      <th>2020-01-10 18:00:00</th>\n",
       "      <td>160,10746015499998</td>\n",
       "      <td>123,421363</td>\n",
       "      <td>135,6</td>\n",
       "    </tr>\n",
       "    <tr>\n",
       "      <th>...</th>\n",
       "      <td>...</td>\n",
       "      <td>...</td>\n",
       "      <td>...</td>\n",
       "    </tr>\n",
       "    <tr>\n",
       "      <th>2021-12-31 20:00:00</th>\n",
       "      <td>300,2171883216668</td>\n",
       "      <td>416,027935</td>\n",
       "      <td>349,1</td>\n",
       "    </tr>\n",
       "    <tr>\n",
       "      <th>2021-12-31 21:00:00</th>\n",
       "      <td>264,6360860866668</td>\n",
       "      <td>452,477582</td>\n",
       "      <td>329,4</td>\n",
       "    </tr>\n",
       "    <tr>\n",
       "      <th>2021-12-31 22:00:00</th>\n",
       "      <td>224,62732453333342</td>\n",
       "      <td>390,112854</td>\n",
       "      <td>290,0</td>\n",
       "    </tr>\n",
       "    <tr>\n",
       "      <th>2021-12-31 23:00:00</th>\n",
       "      <td>247,70840324666676</td>\n",
       "      <td>291,529285</td>\n",
       "      <td>263,0</td>\n",
       "    </tr>\n",
       "    <tr>\n",
       "      <th>2022-01-01 00:00:00</th>\n",
       "      <td>270,99845835000013</td>\n",
       "      <td>212,693294</td>\n",
       "      <td>135,6</td>\n",
       "    </tr>\n",
       "  </tbody>\n",
       "</table>\n",
       "<p>11194 rows × 3 columns</p>\n",
       "</div>"
      ],
      "text/plain": [
       "                            ActivePower ProductionForecast_D  \\\n",
       "DateTime                                                       \n",
       "2020-01-10 14:00:00       361,984872744            73,615132   \n",
       "2020-01-10 15:00:00  412,47429850000003           103,804581   \n",
       "2020-01-10 16:00:00  301,33653231999995           114,025995   \n",
       "2020-01-10 17:00:00       250,289557805            88,874642   \n",
       "2020-01-10 18:00:00  160,10746015499998           123,421363   \n",
       "...                                 ...                  ...   \n",
       "2021-12-31 20:00:00   300,2171883216668           416,027935   \n",
       "2021-12-31 21:00:00   264,6360860866668           452,477582   \n",
       "2021-12-31 22:00:00  224,62732453333342           390,112854   \n",
       "2021-12-31 23:00:00  247,70840324666676           291,529285   \n",
       "2022-01-01 00:00:00  270,99845835000013           212,693294   \n",
       "\n",
       "                    ProductionForecast_M  \n",
       "DateTime                                  \n",
       "2020-01-10 14:00:00                368,8  \n",
       "2020-01-10 15:00:00                263,0  \n",
       "2020-01-10 16:00:00                195,5  \n",
       "2020-01-10 17:00:00                155,0  \n",
       "2020-01-10 18:00:00                135,6  \n",
       "...                                  ...  \n",
       "2021-12-31 20:00:00                349,1  \n",
       "2021-12-31 21:00:00                329,4  \n",
       "2021-12-31 22:00:00                290,0  \n",
       "2021-12-31 23:00:00                263,0  \n",
       "2022-01-01 00:00:00                135,6  \n",
       "\n",
       "[11194 rows x 3 columns]"
      ]
     },
     "execution_count": 340,
     "metadata": {},
     "output_type": "execute_result"
    }
   ],
   "source": [
    "df"
   ]
  },
  {
   "cell_type": "code",
   "execution_count": 341,
   "metadata": {},
   "outputs": [],
   "source": [
    "new_df = pd.DataFrame()\n",
    "new_df['t_D'] = df['ProductionForecast_D'].str.replace(',', '.').astype(float)\n",
    "new_df['t_M'] = df['ProductionForecast_M'].str.replace(',', '.').astype(float)\n",
    "new_df['t_Moy'] = (df['ProductionForecast_M'].str.replace(',', '.').astype(float) + df['ProductionForecast_D'].str.replace(',', '.').astype(float)) / 2\n",
    "new_df['t-36'] = df['ActivePower'].str.replace(',', '.').astype(float).shift(36)\n"
   ]
  },
  {
   "cell_type": "code",
   "execution_count": 342,
   "metadata": {},
   "outputs": [
    {
     "data": {
      "text/html": [
       "<div>\n",
       "<style scoped>\n",
       "    .dataframe tbody tr th:only-of-type {\n",
       "        vertical-align: middle;\n",
       "    }\n",
       "\n",
       "    .dataframe tbody tr th {\n",
       "        vertical-align: top;\n",
       "    }\n",
       "\n",
       "    .dataframe thead th {\n",
       "        text-align: right;\n",
       "    }\n",
       "</style>\n",
       "<table border=\"1\" class=\"dataframe\">\n",
       "  <thead>\n",
       "    <tr style=\"text-align: right;\">\n",
       "      <th></th>\n",
       "      <th>t_D</th>\n",
       "      <th>t_M</th>\n",
       "      <th>t_Moy</th>\n",
       "      <th>t-36</th>\n",
       "    </tr>\n",
       "    <tr>\n",
       "      <th>DateTime</th>\n",
       "      <th></th>\n",
       "      <th></th>\n",
       "      <th></th>\n",
       "      <th></th>\n",
       "    </tr>\n",
       "  </thead>\n",
       "  <tbody>\n",
       "    <tr>\n",
       "      <th>2020-01-10 14:00:00</th>\n",
       "      <td>73.615132</td>\n",
       "      <td>368.8</td>\n",
       "      <td>221.207566</td>\n",
       "      <td>NaN</td>\n",
       "    </tr>\n",
       "    <tr>\n",
       "      <th>2020-01-10 15:00:00</th>\n",
       "      <td>103.804581</td>\n",
       "      <td>263.0</td>\n",
       "      <td>183.402290</td>\n",
       "      <td>NaN</td>\n",
       "    </tr>\n",
       "    <tr>\n",
       "      <th>2020-01-10 16:00:00</th>\n",
       "      <td>114.025995</td>\n",
       "      <td>195.5</td>\n",
       "      <td>154.762997</td>\n",
       "      <td>NaN</td>\n",
       "    </tr>\n",
       "    <tr>\n",
       "      <th>2020-01-10 17:00:00</th>\n",
       "      <td>88.874642</td>\n",
       "      <td>155.0</td>\n",
       "      <td>121.937321</td>\n",
       "      <td>NaN</td>\n",
       "    </tr>\n",
       "    <tr>\n",
       "      <th>2020-01-10 18:00:00</th>\n",
       "      <td>123.421363</td>\n",
       "      <td>135.6</td>\n",
       "      <td>129.510682</td>\n",
       "      <td>NaN</td>\n",
       "    </tr>\n",
       "    <tr>\n",
       "      <th>...</th>\n",
       "      <td>...</td>\n",
       "      <td>...</td>\n",
       "      <td>...</td>\n",
       "      <td>...</td>\n",
       "    </tr>\n",
       "    <tr>\n",
       "      <th>2021-12-31 20:00:00</th>\n",
       "      <td>416.027935</td>\n",
       "      <td>349.1</td>\n",
       "      <td>382.563967</td>\n",
       "      <td>1058.005681</td>\n",
       "    </tr>\n",
       "    <tr>\n",
       "      <th>2021-12-31 21:00:00</th>\n",
       "      <td>452.477582</td>\n",
       "      <td>329.4</td>\n",
       "      <td>390.938791</td>\n",
       "      <td>1265.462598</td>\n",
       "    </tr>\n",
       "    <tr>\n",
       "      <th>2021-12-31 22:00:00</th>\n",
       "      <td>390.112854</td>\n",
       "      <td>290.0</td>\n",
       "      <td>340.056427</td>\n",
       "      <td>1066.196084</td>\n",
       "    </tr>\n",
       "    <tr>\n",
       "      <th>2021-12-31 23:00:00</th>\n",
       "      <td>291.529285</td>\n",
       "      <td>263.0</td>\n",
       "      <td>277.264643</td>\n",
       "      <td>942.946982</td>\n",
       "    </tr>\n",
       "    <tr>\n",
       "      <th>2022-01-01 00:00:00</th>\n",
       "      <td>212.693294</td>\n",
       "      <td>135.6</td>\n",
       "      <td>174.146647</td>\n",
       "      <td>967.472824</td>\n",
       "    </tr>\n",
       "  </tbody>\n",
       "</table>\n",
       "<p>11194 rows × 4 columns</p>\n",
       "</div>"
      ],
      "text/plain": [
       "                            t_D    t_M       t_Moy         t-36\n",
       "DateTime                                                       \n",
       "2020-01-10 14:00:00   73.615132  368.8  221.207566          NaN\n",
       "2020-01-10 15:00:00  103.804581  263.0  183.402290          NaN\n",
       "2020-01-10 16:00:00  114.025995  195.5  154.762997          NaN\n",
       "2020-01-10 17:00:00   88.874642  155.0  121.937321          NaN\n",
       "2020-01-10 18:00:00  123.421363  135.6  129.510682          NaN\n",
       "...                         ...    ...         ...          ...\n",
       "2021-12-31 20:00:00  416.027935  349.1  382.563967  1058.005681\n",
       "2021-12-31 21:00:00  452.477582  329.4  390.938791  1265.462598\n",
       "2021-12-31 22:00:00  390.112854  290.0  340.056427  1066.196084\n",
       "2021-12-31 23:00:00  291.529285  263.0  277.264643   942.946982\n",
       "2022-01-01 00:00:00  212.693294  135.6  174.146647   967.472824\n",
       "\n",
       "[11194 rows x 4 columns]"
      ]
     },
     "execution_count": 342,
     "metadata": {},
     "output_type": "execute_result"
    }
   ],
   "source": [
    "new_df"
   ]
  },
  {
   "cell_type": "code",
   "execution_count": 343,
   "metadata": {},
   "outputs": [],
   "source": [
    "# split a multivariate sequence into samples\n",
    "def split_sequences(sequences, n_steps):\n",
    "  X, y = list(), list()\n",
    "  for i in range(len(sequences)):\n",
    "    # find the end of this pattern\n",
    "    end_ix = i + n_steps\n",
    "    # check if we are beyond the dataset\n",
    "    if end_ix > len(sequences):\n",
    "     break\n",
    "    # gather input and output parts of the pattern\n",
    "    seq_x, seq_y = sequences[i:end_ix, :-1], sequences[end_ix-1, -1]\n",
    "    X.append(seq_x)\n",
    "    y.append(seq_y)\n",
    "  return np.array(X), np.array(y)"
   ]
  },
  {
   "cell_type": "code",
   "execution_count": 349,
   "metadata": {},
   "outputs": [],
   "source": [
    "X, y = split_sequences(np.array(new_df[883:6669]), 37)"
   ]
  },
  {
   "cell_type": "code",
   "execution_count": 350,
   "metadata": {},
   "outputs": [],
   "source": [
    "# univariate cnn example\n",
    "from numpy import array\n",
    "from keras.models import Sequential\n",
    "from keras.layers import Dense\n",
    "from keras.layers import Flatten\n",
    "from keras.layers.convolutional import Conv1D\n",
    "from keras.layers.convolutional import MaxPooling1D"
   ]
  },
  {
   "cell_type": "code",
   "execution_count": 351,
   "metadata": {},
   "outputs": [],
   "source": [
    "# the dataset knows the number of features, e.g. 2\n",
    "n_features = X.shape[2]"
   ]
  },
  {
   "cell_type": "code",
   "execution_count": 352,
   "metadata": {},
   "outputs": [],
   "source": [
    "# define model\n",
    "model = Sequential()\n",
    "model.add(Conv1D(filters=64, kernel_size=3, activation='relu', input_shape=(37,n_features))) \n",
    "model.add(MaxPooling1D(pool_size=2)) \n",
    "model.add(Flatten())\n",
    "model.add(Dense(75, activation='relu')) \n",
    "model.add(Dense(50, activation='relu')) \n",
    "model.add(Dense(25, activation='relu')) \n",
    "model.add(Dense(1))\n",
    "\n",
    "model.compile(optimizer='adam', loss='mse')"
   ]
  },
  {
   "cell_type": "code",
   "execution_count": 354,
   "metadata": {},
   "outputs": [
    {
     "data": {
      "text/plain": [
       "<keras.callbacks.History at 0x1d73b4ee0>"
      ]
     },
     "execution_count": 354,
     "metadata": {},
     "output_type": "execute_result"
    }
   ],
   "source": [
    "model.fit(X, y, epochs=2000, verbose=0)"
   ]
  },
  {
   "cell_type": "code",
   "execution_count": 355,
   "metadata": {},
   "outputs": [
    {
     "data": {
      "text/html": [
       "<div>\n",
       "<style scoped>\n",
       "    .dataframe tbody tr th:only-of-type {\n",
       "        vertical-align: middle;\n",
       "    }\n",
       "\n",
       "    .dataframe tbody tr th {\n",
       "        vertical-align: top;\n",
       "    }\n",
       "\n",
       "    .dataframe thead th {\n",
       "        text-align: right;\n",
       "    }\n",
       "</style>\n",
       "<table border=\"1\" class=\"dataframe\">\n",
       "  <thead>\n",
       "    <tr style=\"text-align: right;\">\n",
       "      <th></th>\n",
       "      <th>t_D</th>\n",
       "      <th>t_M</th>\n",
       "      <th>t_Moy</th>\n",
       "      <th>t-36</th>\n",
       "    </tr>\n",
       "    <tr>\n",
       "      <th>DateTime</th>\n",
       "      <th></th>\n",
       "      <th></th>\n",
       "      <th></th>\n",
       "      <th></th>\n",
       "    </tr>\n",
       "  </thead>\n",
       "  <tbody>\n",
       "    <tr>\n",
       "      <th>2020-01-10 14:00:00</th>\n",
       "      <td>73.615132</td>\n",
       "      <td>368.8</td>\n",
       "      <td>221.207566</td>\n",
       "      <td>NaN</td>\n",
       "    </tr>\n",
       "    <tr>\n",
       "      <th>2020-01-10 15:00:00</th>\n",
       "      <td>103.804581</td>\n",
       "      <td>263.0</td>\n",
       "      <td>183.402290</td>\n",
       "      <td>NaN</td>\n",
       "    </tr>\n",
       "    <tr>\n",
       "      <th>2020-01-10 16:00:00</th>\n",
       "      <td>114.025995</td>\n",
       "      <td>195.5</td>\n",
       "      <td>154.762997</td>\n",
       "      <td>NaN</td>\n",
       "    </tr>\n",
       "    <tr>\n",
       "      <th>2020-01-10 17:00:00</th>\n",
       "      <td>88.874642</td>\n",
       "      <td>155.0</td>\n",
       "      <td>121.937321</td>\n",
       "      <td>NaN</td>\n",
       "    </tr>\n",
       "    <tr>\n",
       "      <th>2020-01-10 18:00:00</th>\n",
       "      <td>123.421363</td>\n",
       "      <td>135.6</td>\n",
       "      <td>129.510682</td>\n",
       "      <td>NaN</td>\n",
       "    </tr>\n",
       "    <tr>\n",
       "      <th>...</th>\n",
       "      <td>...</td>\n",
       "      <td>...</td>\n",
       "      <td>...</td>\n",
       "      <td>...</td>\n",
       "    </tr>\n",
       "    <tr>\n",
       "      <th>2021-12-31 20:00:00</th>\n",
       "      <td>416.027935</td>\n",
       "      <td>349.1</td>\n",
       "      <td>382.563967</td>\n",
       "      <td>1058.005681</td>\n",
       "    </tr>\n",
       "    <tr>\n",
       "      <th>2021-12-31 21:00:00</th>\n",
       "      <td>452.477582</td>\n",
       "      <td>329.4</td>\n",
       "      <td>390.938791</td>\n",
       "      <td>1265.462598</td>\n",
       "    </tr>\n",
       "    <tr>\n",
       "      <th>2021-12-31 22:00:00</th>\n",
       "      <td>390.112854</td>\n",
       "      <td>290.0</td>\n",
       "      <td>340.056427</td>\n",
       "      <td>1066.196084</td>\n",
       "    </tr>\n",
       "    <tr>\n",
       "      <th>2021-12-31 23:00:00</th>\n",
       "      <td>291.529285</td>\n",
       "      <td>263.0</td>\n",
       "      <td>277.264643</td>\n",
       "      <td>942.946982</td>\n",
       "    </tr>\n",
       "    <tr>\n",
       "      <th>2022-01-01 00:00:00</th>\n",
       "      <td>212.693294</td>\n",
       "      <td>135.6</td>\n",
       "      <td>174.146647</td>\n",
       "      <td>967.472824</td>\n",
       "    </tr>\n",
       "  </tbody>\n",
       "</table>\n",
       "<p>11194 rows × 4 columns</p>\n",
       "</div>"
      ],
      "text/plain": [
       "                            t_D    t_M       t_Moy         t-36\n",
       "DateTime                                                       \n",
       "2020-01-10 14:00:00   73.615132  368.8  221.207566          NaN\n",
       "2020-01-10 15:00:00  103.804581  263.0  183.402290          NaN\n",
       "2020-01-10 16:00:00  114.025995  195.5  154.762997          NaN\n",
       "2020-01-10 17:00:00   88.874642  155.0  121.937321          NaN\n",
       "2020-01-10 18:00:00  123.421363  135.6  129.510682          NaN\n",
       "...                         ...    ...         ...          ...\n",
       "2021-12-31 20:00:00  416.027935  349.1  382.563967  1058.005681\n",
       "2021-12-31 21:00:00  452.477582  329.4  390.938791  1265.462598\n",
       "2021-12-31 22:00:00  390.112854  290.0  340.056427  1066.196084\n",
       "2021-12-31 23:00:00  291.529285  263.0  277.264643   942.946982\n",
       "2022-01-01 00:00:00  212.693294  135.6  174.146647   967.472824\n",
       "\n",
       "[11194 rows x 4 columns]"
      ]
     },
     "execution_count": 355,
     "metadata": {},
     "output_type": "execute_result"
    }
   ],
   "source": [
    "new_df"
   ]
  },
  {
   "cell_type": "code",
   "execution_count": 356,
   "metadata": {},
   "outputs": [],
   "source": [
    "X_predict, y_true = split_sequences(np.array(new_df[6670:10163]), 37)"
   ]
  },
  {
   "cell_type": "code",
   "execution_count": 357,
   "metadata": {},
   "outputs": [],
   "source": [
    "Y_pred = model.predict(X_predict)"
   ]
  },
  {
   "cell_type": "code",
   "execution_count": 358,
   "metadata": {},
   "outputs": [
    {
     "data": {
      "text/plain": [
       "(3457, 1)"
      ]
     },
     "execution_count": 358,
     "metadata": {},
     "output_type": "execute_result"
    }
   ],
   "source": [
    "Y_pred.shape"
   ]
  },
  {
   "cell_type": "markdown",
   "metadata": {},
   "source": [
    "___"
   ]
  },
  {
   "cell_type": "markdown",
   "metadata": {},
   "source": [
    "## MAE & RMSE for ENGIE"
   ]
  },
  {
   "cell_type": "code",
   "execution_count": 359,
   "metadata": {},
   "outputs": [],
   "source": [
    "import sklearn.metrics as metrics"
   ]
  },
  {
   "cell_type": "markdown",
   "metadata": {},
   "source": [
    "> MAE"
   ]
  },
  {
   "cell_type": "code",
   "execution_count": 362,
   "metadata": {},
   "outputs": [
    {
     "data": {
      "text/plain": [
       "186.67203744833236"
      ]
     },
     "execution_count": 362,
     "metadata": {},
     "output_type": "execute_result"
    }
   ],
   "source": [
    "metrics.mean_absolute_error(np.array(y_true), (Y_pred))"
   ]
  },
  {
   "cell_type": "markdown",
   "metadata": {},
   "source": [
    "> RMSE"
   ]
  },
  {
   "cell_type": "code",
   "execution_count": 363,
   "metadata": {},
   "outputs": [
    {
     "data": {
      "text/plain": [
       "255.25685762628925"
      ]
     },
     "execution_count": 363,
     "metadata": {},
     "output_type": "execute_result"
    }
   ],
   "source": [
    "metrics.mean_squared_error(np.array(y_true), (Y_pred), squared=False)"
   ]
  },
  {
   "cell_type": "code",
   "execution_count": null,
   "metadata": {},
   "outputs": [],
   "source": []
  }
 ],
 "metadata": {
  "interpreter": {
   "hash": "275e388dca5a71166c3a67c7fbc9dcaefd34989cd88136198f99c1989d4acb17"
  },
  "kernelspec": {
   "display_name": "Python 3.9.12 ('tfenv')",
   "language": "python",
   "name": "python3"
  },
  "language_info": {
   "codemirror_mode": {
    "name": "ipython",
    "version": 3
   },
   "file_extension": ".py",
   "mimetype": "text/x-python",
   "name": "python",
   "nbconvert_exporter": "python",
   "pygments_lexer": "ipython3",
   "version": "3.9.12"
  },
  "orig_nbformat": 4
 },
 "nbformat": 4,
 "nbformat_minor": 2
}
